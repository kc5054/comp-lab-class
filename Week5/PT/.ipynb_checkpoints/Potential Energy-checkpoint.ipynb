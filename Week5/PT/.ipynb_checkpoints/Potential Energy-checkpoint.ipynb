{
 "cells": [
  {
   "cell_type": "code",
   "execution_count": 1,
   "metadata": {},
   "outputs": [],
   "source": [
    "import numpy as np\n",
    "import pandas as pd\n",
    "import matplotlib.pyplot as plt"
   ]
  },
  {
   "cell_type": "code",
   "execution_count": 6,
   "metadata": {},
   "outputs": [],
   "source": [
    "T300=pd.read_csv('energy300.xvg',names=['Time','EP'],skiprows=24,sep='\\s+')\n",
    "T350=pd.read_csv('energy350.xvg',names=['Time','EP'],skiprows=24,sep='\\s+')\n",
    "T400=pd.read_csv('energy400.xvg',names=['Time','EP'],skiprows=24,sep='\\s+')\n",
    "T450=pd.read_csv('energy450.xvg',names=['Time','EP'],skiprows=24,sep='\\s+')"
   ]
  },
  {
   "cell_type": "code",
   "execution_count": 8,
   "metadata": {},
   "outputs": [],
   "source": [
    "time=T300['Time']\n",
    "time/=1000\n",
    "EP300=T300['EP']\n",
    "EP350=T350['EP']\n",
    "EP400=T400['EP']\n",
    "EP450=T450['EP']"
   ]
  },
  {
   "cell_type": "code",
   "execution_count": 12,
   "metadata": {},
   "outputs": [
    {
     "data": {
      "text/plain": [
       "(array([0.02794411, 0.09580838, 0.14770459, 0.21956088, 0.20958084,\n",
       "        0.13972056, 0.09580838, 0.03992016, 0.01197605, 0.01197605]),\n",
       " array([-51.221832 , -42.5282071, -33.8345822, -25.1409573, -16.4473324,\n",
       "         -7.7537075,   0.9399174,   9.6335423,  18.3271672,  27.0207921,\n",
       "         35.714417 ]),\n",
       " <BarContainer object of 10 artists>)"
      ]
     },
     "execution_count": 12,
     "metadata": {},
     "output_type": "execute_result"
    },
    {
     "data": {
      "image/png": "[encoded data removed]",
      "text/plain": [
       "<Figure size 432x288 with 1 Axes>"
      ]
     },
     "metadata": {
      "needs_background": "light"
     },
     "output_type": "display_data"
    }
   ],
   "source": [
    "weights300 = np.ones_like(EP300) / len(EP300)\n",
    "plt.hist(EP300,weights=weights300)\n",
    "weights350 = np.ones_like(EP350) / len(EP350)\n",
    "plt.hist(EP350,weights=weights350)\n",
    "weights400 = np.ones_like(EP400) / len(EP400)\n",
    "plt.hist(EP400,weights=weights400)\n",
    "weights450 = np.ones_like(EP450) / len(EP450)\n",
    "plt.hist(EP450,weights=weights450)\n"
   ]
  },
  {
   "cell_type": "code",
   "execution_count": null,
   "metadata": {},
   "outputs": [],
   "source": []
  }
 ],
 "metadata": {
  "kernelspec": {
   "display_name": "Python 3",
   "language": "python",
   "name": "python3"
  },
  "language_info": {
   "codemirror_mode": {
    "name": "ipython",
    "version": 3
   },
   "file_extension": ".py",
   "mimetype": "text/x-python",
   "name": "python",
   "nbconvert_exporter": "python",
   "pygments_lexer": "ipython3",
   "version": "3.8.6"
  }
 },
 "nbformat": 4,
 "nbformat_minor": 4
}
