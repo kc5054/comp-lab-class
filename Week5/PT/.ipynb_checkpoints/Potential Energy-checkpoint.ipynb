{
 "cells": [
  {
   "cell_type": "code",
   "execution_count": 2,
   "metadata": {},
   "outputs": [],
   "source": [
    "import numpy as np\n",
    "import pandas as pd\n",
    "import matplotlib.pyplot as plt"
   ]
  },
  {
   "cell_type": "code",
   "execution_count": 3,
   "metadata": {},
   "outputs": [],
   "source": [
    "T300=pd.read_csv('energy300.xvg',names=['Time','EP'],skiprows=24,sep='\\s+')\n",
    "T350=pd.read_csv('energy350.xvg',names=['Time','EP'],skiprows=24,sep='\\s+')\n",
    "T400=pd.read_csv('energy400.xvg',names=['Time','EP'],skiprows=24,sep='\\s+')\n",
    "T450=pd.read_csv('energy450.xvg',names=['Time','EP'],skiprows=24,sep='\\s+')"
   ]
  },
  {
   "cell_type": "code",
   "execution_count": 4,
   "metadata": {},
   "outputs": [],
   "source": [
    "time=T300['Time']\n",
    "time/=1000\n",
    "EP300=T300['EP']\n",
    "EP350=T350['EP']\n",
    "EP400=T400['EP']\n",
    "EP450=T450['EP']"
   ]
  },
  {
   "cell_type": "code",
   "execution_count": 9,
   "metadata": {},
   "outputs": [
    {
     "data": {
      "text/plain": [
       "<matplotlib.legend.Legend at 0x14f3a22b3700>"
      ]
     },
     "execution_count": 9,
     "metadata": {},
     "output_type": "execute_result"
    },
    {
     "data": {
      "image/png": "[encoded data removed]",
      "text/plain": [
       "<Figure size 432x288 with 1 Axes>"
      ]
     },
     "metadata": {
      "needs_background": "light"
     },
     "output_type": "display_data"
    }
   ],
   "source": [
    "weights300 = np.ones_like(EP300) / len(EP300)\n",
    "plt.hist(EP300,weights=weights300,label='T=300')\n",
    "weights350 = np.ones_like(EP350) / len(EP350)\n",
    "plt.hist(EP350,weights=weights350,label='T=350')\n",
    "weights400 = np.ones_like(EP400) / len(EP400)\n",
    "plt.hist(EP400,weights=weights400,label='T=400')\n",
    "weights450 = np.ones_like(EP450) / len(EP450)\n",
    "plt.hist(EP450,weights=weights450,label='T=450')\n",
    "plt.title(\"Potential Energy Distribution\")\n",
    "plt.xlabel(\"Potential Energy\")\n",
    "plt.ylabel(\"Probability\")\n",
    "plt.legend()"
   ]
  },
  {
   "cell_type": "code",
   "execution_count": null,
   "metadata": {},
   "outputs": [],
   "source": []
  }
 ],
 "metadata": {
  "kernelspec": {
   "display_name": "Python 3",
   "language": "python",
   "name": "python3"
  },
  "language_info": {
   "codemirror_mode": {
    "name": "ipython",
    "version": 3
   },
   "file_extension": ".py",
   "mimetype": "text/x-python",
   "name": "python",
   "nbconvert_exporter": "python",
   "pygments_lexer": "ipython3",
   "version": "3.8.6"
  }
 },
 "nbformat": 4,
 "nbformat_minor": 4
}
