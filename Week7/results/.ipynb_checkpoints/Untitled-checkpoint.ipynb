{
 "cells": [
  {
   "cell_type": "code",
   "execution_count": 1,
   "metadata": {},
   "outputs": [],
   "source": [
    "import numpy as np\n",
    "import mdtraj as md\n",
    "import matplotlib.pyplot as plt"
   ]
  },
  {
   "cell_type": "code",
   "execution_count": 33,
   "metadata": {},
   "outputs": [],
   "source": [
    "crystal=md.load('2w9t.pdb')\n",
    "rank1=md.load('2W9T_596c5_unrelaxed_rank_1_model_5.pdb')\n",
    "rank2=md.load_pdb('2W9T_596c5_unrelaxed_rank_2_model_3.pdb')\n",
    "rank3=md.load_pdb('2W9T_596c5_unrelaxed_rank_3_model_4.pdb')\n",
    "rank4=md.load_pdb('2W9T_596c5_unrelaxed_rank_4_model_1.pdb')\n",
    "rank5=md.load_pdb('2W9T_596c5_unrelaxed_rank_5_model_2.pdb')\n",
    "trajs=[crystal,rank1,rank2,rank3,rank4,rank5]"
   ]
  },
  {
   "cell_type": "code",
   "execution_count": 42,
   "metadata": {},
   "outputs": [
    {
     "ename": "ValueError",
     "evalue": "Cannot use a single literal as a boolean.",
     "output_type": "error",
     "traceback": [
      "\u001b[0;31m---------------------------------------------------------------------------\u001b[0m",
      "\u001b[0;31mValueError\u001b[0m                                Traceback (most recent call last)",
      "\u001b[0;32m<ipython-input-42-8b4272562429>\u001b[0m in \u001b[0;36m<module>\u001b[0;34m\u001b[0m\n\u001b[0;32m----> 1\u001b[0;31m \u001b[0mrmsd1\u001b[0m\u001b[0;34m=\u001b[0m\u001b[0mmd\u001b[0m\u001b[0;34m.\u001b[0m\u001b[0mrmsd\u001b[0m\u001b[0;34m(\u001b[0m\u001b[0mrank1\u001b[0m\u001b[0;34m,\u001b[0m\u001b[0mcrystal\u001b[0m\u001b[0;34m,\u001b[0m\u001b[0matom_indices\u001b[0m\u001b[0;34m=\u001b[0m\u001b[0mcrystal\u001b[0m\u001b[0;34m.\u001b[0m\u001b[0mtop\u001b[0m\u001b[0;34m.\u001b[0m\u001b[0mselect\u001b[0m\u001b[0;34m(\u001b[0m\u001b[0;34m'alphacarbons'\u001b[0m\u001b[0;34m)\u001b[0m\u001b[0;34m)\u001b[0m\u001b[0;34m\u001b[0m\u001b[0;34m\u001b[0m\u001b[0m\n\u001b[0m",
      "\u001b[0;32m~/.local/lib/python3.8/site-packages/mdtraj/core/topology.py\u001b[0m in \u001b[0;36mselect\u001b[0;34m(self, selection_string)\u001b[0m\n\u001b[1;32m   1071\u001b[0m         \"\"\"\n\u001b[1;32m   1072\u001b[0m \u001b[0;34m\u001b[0m\u001b[0m\n\u001b[0;32m-> 1073\u001b[0;31m         \u001b[0mfilter_func\u001b[0m \u001b[0;34m=\u001b[0m \u001b[0mparse_selection\u001b[0m\u001b[0;34m(\u001b[0m\u001b[0mselection_string\u001b[0m\u001b[0;34m)\u001b[0m\u001b[0;34m.\u001b[0m\u001b[0mexpr\u001b[0m\u001b[0;34m\u001b[0m\u001b[0;34m\u001b[0m\u001b[0m\n\u001b[0m\u001b[1;32m   1074\u001b[0m         \u001b[0mindices\u001b[0m \u001b[0;34m=\u001b[0m \u001b[0mnp\u001b[0m\u001b[0;34m.\u001b[0m\u001b[0marray\u001b[0m\u001b[0;34m(\u001b[0m\u001b[0;34m[\u001b[0m\u001b[0ma\u001b[0m\u001b[0;34m.\u001b[0m\u001b[0mindex\u001b[0m \u001b[0;32mfor\u001b[0m \u001b[0ma\u001b[0m \u001b[0;32min\u001b[0m \u001b[0mself\u001b[0m\u001b[0;34m.\u001b[0m\u001b[0matoms\u001b[0m \u001b[0;32mif\u001b[0m \u001b[0mfilter_func\u001b[0m\u001b[0;34m(\u001b[0m\u001b[0ma\u001b[0m\u001b[0;34m)\u001b[0m\u001b[0;34m]\u001b[0m\u001b[0;34m)\u001b[0m\u001b[0;34m\u001b[0m\u001b[0;34m\u001b[0m\u001b[0m\n\u001b[1;32m   1075\u001b[0m         \u001b[0;32mreturn\u001b[0m \u001b[0mindices\u001b[0m\u001b[0;34m\u001b[0m\u001b[0;34m\u001b[0m\u001b[0m\n",
      "\u001b[0;32m~/.local/lib/python3.8/site-packages/mdtraj/core/selection.py\u001b[0m in \u001b[0;36m__call__\u001b[0;34m(self, selection)\u001b[0m\n\u001b[1;32m    384\u001b[0m         \u001b[0;31m# Special check for a single literal\u001b[0m\u001b[0;34m\u001b[0m\u001b[0;34m\u001b[0m\u001b[0;34m\u001b[0m\u001b[0m\n\u001b[1;32m    385\u001b[0m         \u001b[0;32mif\u001b[0m \u001b[0misinstance\u001b[0m\u001b[0;34m(\u001b[0m\u001b[0mastnode\u001b[0m\u001b[0;34m,\u001b[0m \u001b[0mast\u001b[0m\u001b[0;34m.\u001b[0m\u001b[0mNum\u001b[0m\u001b[0;34m)\u001b[0m \u001b[0;32mor\u001b[0m \u001b[0misinstance\u001b[0m\u001b[0;34m(\u001b[0m\u001b[0mastnode\u001b[0m\u001b[0;34m,\u001b[0m \u001b[0mast\u001b[0m\u001b[0;34m.\u001b[0m\u001b[0mStr\u001b[0m\u001b[0;34m)\u001b[0m\u001b[0;34m:\u001b[0m\u001b[0;34m\u001b[0m\u001b[0;34m\u001b[0m\u001b[0m\n\u001b[0;32m--> 386\u001b[0;31m             \u001b[0;32mraise\u001b[0m \u001b[0mValueError\u001b[0m\u001b[0;34m(\u001b[0m\u001b[0;34m\"Cannot use a single literal as a boolean.\"\u001b[0m\u001b[0;34m)\u001b[0m\u001b[0;34m\u001b[0m\u001b[0;34m\u001b[0m\u001b[0m\n\u001b[0m\u001b[1;32m    387\u001b[0m \u001b[0;34m\u001b[0m\u001b[0m\n\u001b[1;32m    388\u001b[0m         \u001b[0;32mif\u001b[0m \u001b[0mPY2\u001b[0m\u001b[0;34m:\u001b[0m\u001b[0;34m\u001b[0m\u001b[0;34m\u001b[0m\u001b[0m\n",
      "\u001b[0;31mValueError\u001b[0m: Cannot use a single literal as a boolean."
     ]
    }
   ],
   "source": [
    "rmsd1=md.rmsd(rank1,crystal,atom_indices=crystal.top.select('alpha carbons'))"
   ]
  },
  {
   "cell_type": "code",
   "execution_count": 37,
   "metadata": {},
   "outputs": [
    {
     "name": "stdout",
     "output_type": "stream",
     "text": [
      "<mdtraj.Trajectory with 1 frames, 1304 atoms, 161 residues, without unitcells>\n",
      "<mdtraj.Trajectory with 1 frames, 2706 atoms, 454 residues, and unitcells>\n"
     ]
    }
   ],
   "source": [
    "print(rank1)\n",
    "print(crystal)"
   ]
  },
  {
   "cell_type": "code",
   "execution_count": 57,
   "metadata": {},
   "outputs": [
    {
     "name": "stdout",
     "output_type": "stream",
     "text": [
      "[   1    8   16   22   30   38   45   50   60   68   77   86   97  104\n",
      "  112  116  128  137  145  154  162  169  183  193  201  208  216  224\n",
      "  232  241  251  259  268  277  285  292  299  303  311  318  326  333\n",
      "  341  346  357  366  373  384  393  399  407  411  420  427  435  442\n",
      "  450  461  472  480  487  494  502  509  517  526  531  537  548  558\n",
      "  568  577  581  588  596  603  611  619  625  633  641  650  658  667\n",
      "  676  684  690  694  704  711  722  730  741  745  749  758  765  773\n",
      "  785  794  799  807  815  823  832  839  847  855  863  875  883  890\n",
      "  897  905  913  917  926  937  946  950  958  965  976  987  994 1001\n",
      " 1013 1020 1031 1040 1048 1062 1071 1078 1087 1093 1099 1106 1115 1119\n",
      " 1128 1136 1144 1153 1162 1170 1177 1185 1192 1202 1209 1220 1228 1238\n",
      " 1246 1253 1264 1275 1284]\n"
     ]
    }
   ],
   "source": [
    "print(crystal.top.select('name CA and chainid 0'))"
   ]
  },
  {
   "cell_type": "code",
   "execution_count": null,
   "metadata": {},
   "outputs": [],
   "source": []
  },
  {
   "cell_type": "code",
   "execution_count": null,
   "metadata": {},
   "outputs": [],
   "source": []
  }
 ],
 "metadata": {
  "kernelspec": {
   "display_name": "Python 3",
   "language": "python",
   "name": "python3"
  },
  "language_info": {
   "codemirror_mode": {
    "name": "ipython",
    "version": 3
   },
   "file_extension": ".py",
   "mimetype": "text/x-python",
   "name": "python",
   "nbconvert_exporter": "python",
   "pygments_lexer": "ipython3",
   "version": "3.8.6"
  }
 },
 "nbformat": 4,
 "nbformat_minor": 4
}
