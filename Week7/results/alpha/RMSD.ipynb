{
 "cells": [
  {
   "cell_type": "code",
   "execution_count": 5,
   "metadata": {},
   "outputs": [],
   "source": [
    "import numpy as np\n",
    "import mdtraj as md\n",
    "import matplotlib.pyplot as plt"
   ]
  },
  {
   "cell_type": "code",
   "execution_count": 6,
   "metadata": {},
   "outputs": [],
   "source": [
    "crystal=md.load('2w9t.pdb')\n",
    "rank1=md.load_pdb('ranked_0.pdb')\n",
    "rank2=md.load_pdb('ranked_1.pdb')\n",
    "rank3=md.load_pdb('ranked_2.pdb')\n",
    "rank4=md.load_pdb('ranked_3.pdb')\n",
    "rank5=md.load_pdb('ranked_4.pdb')"
   ]
  },
  {
   "cell_type": "code",
   "execution_count": 8,
   "metadata": {},
   "outputs": [
    {
     "data": {
      "text/plain": [
       "<matplotlib.legend.Legend at 0x1550775c69d0>"
      ]
     },
     "execution_count": 8,
     "metadata": {},
     "output_type": "execute_result"
    },
    {
     "data": {
      "image/png": "[encoded data removed]",
      "text/plain": [
       "<Figure size 432x288 with 1 Axes>"
      ]
     },
     "metadata": {
      "needs_background": "light"
     },
     "output_type": "display_data"
    }
   ],
   "source": [
    "#RMSD based on alpha carbon\n",
    "rmsd1=md.rmsd(rank1,crystal,atom_indices=crystal.top.select('name CA and chainid 0'))\n",
    "rmsd2=md.rmsd(rank2,crystal,atom_indices=crystal.top.select('name CA and chainid 0'))\n",
    "rmsd3=md.rmsd(rank3,crystal,atom_indices=crystal.top.select('name CA and chainid 0'))\n",
    "rmsd4=md.rmsd(rank4,crystal,atom_indices=crystal.top.select('name CA and chainid 0'))\n",
    "rmsd5=md.rmsd(rank5,crystal,atom_indices=crystal.top.select('name CA and chainid 0'))\n",
    "rmsdCA=np.array([rmsd1,rmsd2,rmsd3,rmsd4,rmsd5]).flatten()\n",
    "#RMSD based on backbone\n",
    "backbone1=md.rmsd(rank1,crystal,atom_indices=crystal.top.select('backbone and chainid 0'))\n",
    "backbone2=md.rmsd(rank2,crystal,atom_indices=crystal.top.select('backbone and chainid 0'))\n",
    "backbone3=md.rmsd(rank3,crystal,atom_indices=crystal.top.select('backbone and chainid 0'))\n",
    "backbone4=md.rmsd(rank4,crystal,atom_indices=crystal.top.select('backbone and chainid 0'))\n",
    "backbone5=md.rmsd(rank5,crystal,atom_indices=crystal.top.select('backbone and chainid 0'))\n",
    "rmsdBB=np.array([backbone1,backbone2,backbone3,backbone4,backbone5]).flatten()\n",
    "#RMSD based on side chains\n",
    "sc1=md.rmsd(rank1,crystal,atom_indices=crystal.top.select('sidechain and chainid 0'))\n",
    "sc2=md.rmsd(rank2,crystal,atom_indices=crystal.top.select('sidechain and chainid 0'))\n",
    "sc3=md.rmsd(rank3,crystal,atom_indices=crystal.top.select('sidechain and chainid 0'))\n",
    "sc4=md.rmsd(rank4,crystal,atom_indices=crystal.top.select('sidechain and chainid 0'))\n",
    "sc5=md.rmsd(rank5,crystal,atom_indices=crystal.top.select('sidechain and chainid 0'))\n",
    "rmsdSC=np.array([sc1,sc2,sc3,sc4,sc5]).flatten()\n",
    "Names=np.array(['Rank1','Rank2','Rank3','Rank4','Rank5'])\n",
    "x=np.array([1,4.2,7.4,10.6,13.8])\n",
    "fig,ax=plt.subplots()\n",
    "ax.bar(x,rmsdCA,0.8,label='Alpha Carbon')\n",
    "ax.bar(x-0.8,rmsdBB,0.8,label='Backbone')\n",
    "ax.bar(x+0.8,rmsdSC,0.8,label='Side-chain')\n",
    "#ax.set_ybound(0.45,0.75)\n",
    "ax.set_ylabel('RMSD')\n",
    "ax.set_xlabel('Name')\n",
    "ax.set_title('RMSD based on alpha carbon, backbone and side-chain')\n",
    "plt.xticks(x,labels=Names)\n",
    "plt.legend(bbox_to_anchor=(1, 0.7))"
   ]
  },
  {
   "cell_type": "code",
   "execution_count": 16,
   "metadata": {},
   "outputs": [
    {
     "name": "stdout",
     "output_type": "stream",
     "text": [
      "<mdtraj.Trajectory with 1 frames, 1304 atoms, 161 residues, without unitcells>\n",
      "<mdtraj.Trajectory with 1 frames, 2706 atoms, 454 residues, and unitcells>\n",
      "[0.49860692 0.49638548 0.49784493 0.4976556  0.49385992]\n"
     ]
    }
   ],
   "source": []
  },
  {
   "cell_type": "code",
   "execution_count": 57,
   "metadata": {},
   "outputs": [
    {
     "name": "stdout",
     "output_type": "stream",
     "text": [
      "[   1    8   16   22   30   38   45   50   60   68   77   86   97  104\n",
      "  112  116  128  137  145  154  162  169  183  193  201  208  216  224\n",
      "  232  241  251  259  268  277  285  292  299  303  311  318  326  333\n",
      "  341  346  357  366  373  384  393  399  407  411  420  427  435  442\n",
      "  450  461  472  480  487  494  502  509  517  526  531  537  548  558\n",
      "  568  577  581  588  596  603  611  619  625  633  641  650  658  667\n",
      "  676  684  690  694  704  711  722  730  741  745  749  758  765  773\n",
      "  785  794  799  807  815  823  832  839  847  855  863  875  883  890\n",
      "  897  905  913  917  926  937  946  950  958  965  976  987  994 1001\n",
      " 1013 1020 1031 1040 1048 1062 1071 1078 1087 1093 1099 1106 1115 1119\n",
      " 1128 1136 1144 1153 1162 1170 1177 1185 1192 1202 1209 1220 1228 1238\n",
      " 1246 1253 1264 1275 1284]\n"
     ]
    }
   ],
   "source": [
    "print(crystal.top.select('name CA and chainid 0'))"
   ]
  },
  {
   "cell_type": "code",
   "execution_count": null,
   "metadata": {},
   "outputs": [],
   "source": []
  },
  {
   "cell_type": "code",
   "execution_count": null,
   "metadata": {},
   "outputs": [],
   "source": []
  }
 ],
 "metadata": {
  "kernelspec": {
   "display_name": "Python 3",
   "language": "python",
   "name": "python3"
  },
  "language_info": {
   "codemirror_mode": {
    "name": "ipython",
    "version": 3
   },
   "file_extension": ".py",
   "mimetype": "text/x-python",
   "name": "python",
   "nbconvert_exporter": "python",
   "pygments_lexer": "ipython3",
   "version": "3.8.6"
  }
 },
 "nbformat": 4,
 "nbformat_minor": 4
}
